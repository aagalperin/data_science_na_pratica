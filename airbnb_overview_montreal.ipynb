{
  "nbformat": 4,
  "nbformat_minor": 0,
  "metadata": {
    "colab": {
      "name": "airbnb_overview_montreal.ipynb",
      "provenance": [],
      "toc_visible": true,
      "authorship_tag": "ABX9TyMkt9p1JchG67TsszAaAE45",
      "include_colab_link": true
    },
    "kernelspec": {
      "name": "python3",
      "display_name": "Python 3"
    }
  },
  "cells": [
    {
      "cell_type": "markdown",
      "metadata": {
        "id": "view-in-github",
        "colab_type": "text"
      },
      "source": [
        "<a href=\"https://colab.research.google.com/github/aagalperin/data_science_na_pratica/blob/master/airbnb_overview_montreal.ipynb\" target=\"_parent\"><img src=\"https://colab.research.google.com/assets/colab-badge.svg\" alt=\"Open In Colab\"/></a>"
      ]
    },
    {
      "cell_type": "markdown",
      "metadata": {
        "id": "vKCUae3MqRrJ",
        "colab_type": "text"
      },
      "source": [
        "#An overview of Montreal spaces available on Airbnb\n",
        "\n",
        "Created in 2008 with an unique approach towards lodging, [Airbnb](https://www.airbnb.com) is a marketplace that uses the \"sharing economy\" to conect hosts offering a place to stay and guests that need somewhere to crash. Now Airbnb is one of the world's largest marketplaces offering over 7 million accommodations across 220+ coutries and regions. Almong all the cities, Montreal counts with this tool to help hospitality entrepreneurs monetyze their spaces. \n",
        "\n",
        "<center><img alt=\"Analisando Airbnb\" width=\"20%\" src=\"https://www.area360.com.au/wp-content/uploads/2017/09/airbnb-logo.jpg\"></center>\n",
        "\n",
        "##Objective:\n",
        "\n",
        "In this exercise I will be colecting data from a summarized database provided by Airbnb in the website [Inside Airbnb](http://insideairbnb.com/index.html) and making a simple analysis about the units available in Montreal. \n",
        "\n",
        "<br>\n",
        "\n",
        "---\n",
        "*This is an exercise from Data Science course chatpiter #1 made by __Adriana \n",
        "Galperin__.*\n"
      ]
    },
    {
      "cell_type": "markdown",
      "metadata": {
        "id": "crsE1_7T1nAS",
        "colab_type": "text"
      },
      "source": [
        "## Data Gathering\n",
        "\n",
        "A project created by Murray Coxthe allows us to manipulate part of Airbnb data to get some insights in each city and neighborhood about room/house renting that was made through Airbnb platform.\n",
        "\n",
        "For the prurpose of this first exercise, the simplified database provided into the website [Inside Airbnb](http://insideairbnb.com/get-the-data.html) was used:\n",
        "\n",
        "* `\tlistings.csv` : Summary information and metrics for listings in Montreal (good for visualisations).\n",
        "\n",
        "The datasets were scraped on April 20th, 2020"
      ]
    },
    {
      "cell_type": "code",
      "metadata": {
        "id": "FxN7DKYF1i7U",
        "colab_type": "code",
        "colab": {}
      },
      "source": [
        "# Install libraries\n",
        "import pandas as pd\n",
        "import matplotlib.pyplot as plt\n",
        "import seaborn as sns\n",
        "\n",
        "%matplotlib inline"
      ],
      "execution_count": 0,
      "outputs": []
    },
    {
      "cell_type": "code",
      "metadata": {
        "id": "nJMl-70Z7Vy2",
        "colab_type": "code",
        "colab": {}
      },
      "source": [
        "# Load listings.csv into our DataFrame\n",
        "df = pd.read_csv(\"http://data.insideairbnb.com/canada/qc/montreal/2020-04-20/visualisations/listings.csv\")"
      ],
      "execution_count": 0,
      "outputs": []
    },
    {
      "cell_type": "markdown",
      "metadata": {
        "id": "AQIpJCVI7ZG3",
        "colab_type": "text"
      },
      "source": [
        "## Data Analysis\n",
        "\n",
        "The main objective in this section is make sure we understand all the data available and discover if the database needs any further treatment such as for absent values, outliers or data formats."
      ]
    },
    {
      "cell_type": "markdown",
      "metadata": {
        "id": "SQpcyQ4U7wSE",
        "colab_type": "text"
      },
      "source": [
        "**Data Dictionary**\n",
        "\n",
        "Variable | Definition\n",
        "---|---\n",
        "id| property unique indentifier\n",
        "name|\tproperty name\n",
        "host_id|\thost unique identifier\n",
        "host_name|\thost name\n",
        "neighbourhood_group|\n",
        "neighbourhood| neighborhood name\n",
        "latitude|\tgeographic coordinates about the property latitude\n",
        "longitude| geographic coordinates about the property longitude\n",
        "room_type|\tcategorize the property as *entire home/apt*, *private room*, *shared room* or *hotel room* \n",
        "price| one night renting price\n",
        "minimum_nights|\tminimal nights  of renting required by the owner\n",
        "number_of_reviews|\thow many reviews the property has\n",
        "last_review|\tlast review date\n",
        "reviews_per_month|\tavarage of reviews made in one month\n",
        "calculated_host_listings_count|\thow many propertys the same host has\n",
        "availability_365| days of occupancy of the property in one year \n"
      ]
    },
    {
      "cell_type": "code",
      "metadata": {
        "id": "yZJjZq60DF_a",
        "colab_type": "code",
        "outputId": "03f56c7b-e25f-4885-f729-9686672698be",
        "colab": {
          "base_uri": "https://localhost:8080/",
          "height": 394
        }
      },
      "source": [
        "# Show first 5 rows of my dataframe\n",
        "df.head()"
      ],
      "execution_count": 169,
      "outputs": [
        {
          "output_type": "execute_result",
          "data": {
            "text/html": [
              "<div>\n",
              "<style scoped>\n",
              "    .dataframe tbody tr th:only-of-type {\n",
              "        vertical-align: middle;\n",
              "    }\n",
              "\n",
              "    .dataframe tbody tr th {\n",
              "        vertical-align: top;\n",
              "    }\n",
              "\n",
              "    .dataframe thead th {\n",
              "        text-align: right;\n",
              "    }\n",
              "</style>\n",
              "<table border=\"1\" class=\"dataframe\">\n",
              "  <thead>\n",
              "    <tr style=\"text-align: right;\">\n",
              "      <th></th>\n",
              "      <th>id</th>\n",
              "      <th>name</th>\n",
              "      <th>host_id</th>\n",
              "      <th>host_name</th>\n",
              "      <th>neighbourhood_group</th>\n",
              "      <th>neighbourhood</th>\n",
              "      <th>latitude</th>\n",
              "      <th>longitude</th>\n",
              "      <th>room_type</th>\n",
              "      <th>price</th>\n",
              "      <th>minimum_nights</th>\n",
              "      <th>number_of_reviews</th>\n",
              "      <th>last_review</th>\n",
              "      <th>reviews_per_month</th>\n",
              "      <th>calculated_host_listings_count</th>\n",
              "      <th>availability_365</th>\n",
              "    </tr>\n",
              "  </thead>\n",
              "  <tbody>\n",
              "    <tr>\n",
              "      <th>0</th>\n",
              "      <td>2078</td>\n",
              "      <td>Central comfy close to Metro Laurie</td>\n",
              "      <td>2277</td>\n",
              "      <td>Nelia</td>\n",
              "      <td>NaN</td>\n",
              "      <td>Le Plateau-Mont-Royal</td>\n",
              "      <td>45.53069</td>\n",
              "      <td>-73.58588</td>\n",
              "      <td>Private room</td>\n",
              "      <td>39</td>\n",
              "      <td>2</td>\n",
              "      <td>245</td>\n",
              "      <td>2018-09-23</td>\n",
              "      <td>2.33</td>\n",
              "      <td>1</td>\n",
              "      <td>109</td>\n",
              "    </tr>\n",
              "    <tr>\n",
              "      <th>1</th>\n",
              "      <td>2843</td>\n",
              "      <td>Fabulous downtown/airport room</td>\n",
              "      <td>2319</td>\n",
              "      <td>Gail</td>\n",
              "      <td>NaN</td>\n",
              "      <td>Le Sud-Ouest</td>\n",
              "      <td>45.48496</td>\n",
              "      <td>-73.58001</td>\n",
              "      <td>Private room</td>\n",
              "      <td>29</td>\n",
              "      <td>7</td>\n",
              "      <td>143</td>\n",
              "      <td>2019-12-30</td>\n",
              "      <td>1.08</td>\n",
              "      <td>6</td>\n",
              "      <td>201</td>\n",
              "    </tr>\n",
              "    <tr>\n",
              "      <th>2</th>\n",
              "      <td>14584</td>\n",
              "      <td>Spread Out in 1,200 Square Feet of Luxury in t...</td>\n",
              "      <td>57358</td>\n",
              "      <td>Verona</td>\n",
              "      <td>NaN</td>\n",
              "      <td>Le Plateau-Mont-Royal</td>\n",
              "      <td>45.54135</td>\n",
              "      <td>-73.57814</td>\n",
              "      <td>Entire home/apt</td>\n",
              "      <td>175</td>\n",
              "      <td>3</td>\n",
              "      <td>177</td>\n",
              "      <td>2020-03-22</td>\n",
              "      <td>1.64</td>\n",
              "      <td>1</td>\n",
              "      <td>354</td>\n",
              "    </tr>\n",
              "    <tr>\n",
              "      <th>3</th>\n",
              "      <td>29059</td>\n",
              "      <td>Lovely studio Quartier Latin</td>\n",
              "      <td>125031</td>\n",
              "      <td>Maryline</td>\n",
              "      <td>NaN</td>\n",
              "      <td>Ville-Marie</td>\n",
              "      <td>45.51939</td>\n",
              "      <td>-73.56482</td>\n",
              "      <td>Entire home/apt</td>\n",
              "      <td>80</td>\n",
              "      <td>2</td>\n",
              "      <td>326</td>\n",
              "      <td>2020-03-20</td>\n",
              "      <td>2.72</td>\n",
              "      <td>2</td>\n",
              "      <td>323</td>\n",
              "    </tr>\n",
              "    <tr>\n",
              "      <th>4</th>\n",
              "      <td>29061</td>\n",
              "      <td>Maison historique - Quartier Latin</td>\n",
              "      <td>125031</td>\n",
              "      <td>Maryline</td>\n",
              "      <td>NaN</td>\n",
              "      <td>Ville-Marie</td>\n",
              "      <td>45.51929</td>\n",
              "      <td>-73.56493</td>\n",
              "      <td>Entire home/apt</td>\n",
              "      <td>145</td>\n",
              "      <td>3</td>\n",
              "      <td>66</td>\n",
              "      <td>2020-02-17</td>\n",
              "      <td>0.66</td>\n",
              "      <td>2</td>\n",
              "      <td>324</td>\n",
              "    </tr>\n",
              "  </tbody>\n",
              "</table>\n",
              "</div>"
            ],
            "text/plain": [
              "      id  ... availability_365\n",
              "0   2078  ...              109\n",
              "1   2843  ...              201\n",
              "2  14584  ...              354\n",
              "3  29059  ...              323\n",
              "4  29061  ...              324\n",
              "\n",
              "[5 rows x 16 columns]"
            ]
          },
          "metadata": {
            "tags": []
          },
          "execution_count": 169
        }
      ]
    },
    {
      "cell_type": "markdown",
      "metadata": {
        "id": "bsllgR-nIL-x",
        "colab_type": "text"
      },
      "source": [
        "###Q1. How this data set is structured?\n",
        "As the main objective here is doing an exploratory reserch, it is really important that we understand (1)how many data entries this data set has, (2) how many variables it provides and (3) what are those variable types.\n",
        "\n",
        "Having  those informations are extremely important so we can make some decisions of how to proceed our analysis, such as: do I need to change any of these variables type?"
      ]
    },
    {
      "cell_type": "code",
      "metadata": {
        "id": "TT1xi3ySKHIw",
        "colab_type": "code",
        "outputId": "f512642d-23b5-4fd1-b9ed-248bff30762d",
        "colab": {
          "base_uri": "https://localhost:8080/",
          "height": 357
        }
      },
      "source": [
        "## How many data entries it has?\n",
        "print(\"Data entry:\\t {}\".format(df.shape[0]))\n",
        "\n",
        "## How many variables it has?\n",
        "print(\"Variables:\\t {}\\n\".format(df.shape[1]))\n",
        "\n",
        "## Data type for each variable:\n",
        "display(df.dtypes)"
      ],
      "execution_count": 170,
      "outputs": [
        {
          "output_type": "stream",
          "text": [
            "Data entry:\t 19731\n",
            "Variables:\t 16\n",
            "\n"
          ],
          "name": "stdout"
        },
        {
          "output_type": "display_data",
          "data": {
            "text/plain": [
              "id                                  int64\n",
              "name                               object\n",
              "host_id                             int64\n",
              "host_name                          object\n",
              "neighbourhood_group               float64\n",
              "neighbourhood                      object\n",
              "latitude                          float64\n",
              "longitude                         float64\n",
              "room_type                          object\n",
              "price                               int64\n",
              "minimum_nights                      int64\n",
              "number_of_reviews                   int64\n",
              "last_review                        object\n",
              "reviews_per_month                 float64\n",
              "calculated_host_listings_count      int64\n",
              "availability_365                    int64\n",
              "dtype: object"
            ]
          },
          "metadata": {
            "tags": []
          }
        }
      ]
    },
    {
      "cell_type": "markdown",
      "metadata": {
        "id": "nZDS7Kj_LW1k",
        "colab_type": "text"
      },
      "source": [
        "###Q2. Does the dataset has missing data?\n",
        "\n",
        "Null data or NaN (not a number) can influence our analysis. So it is really important to find out if we should treat any case."
      ]
    },
    {
      "cell_type": "code",
      "metadata": {
        "id": "_loR_y4kM_K-",
        "colab_type": "code",
        "outputId": "c7feba00-e04c-4835-a627-229f77581e13",
        "colab": {
          "base_uri": "https://localhost:8080/",
          "height": 306
        }
      },
      "source": [
        "# Percentage of null data the data has in each column and ording those columns\n",
        "(df.isnull().sum() / df.shape[0]).sort_values(ascending=False)"
      ],
      "execution_count": 171,
      "outputs": [
        {
          "output_type": "execute_result",
          "data": {
            "text/plain": [
              "neighbourhood_group               1.000000\n",
              "reviews_per_month                 0.202879\n",
              "last_review                       0.202879\n",
              "name                              0.000912\n",
              "host_name                         0.000051\n",
              "availability_365                  0.000000\n",
              "calculated_host_listings_count    0.000000\n",
              "number_of_reviews                 0.000000\n",
              "minimum_nights                    0.000000\n",
              "price                             0.000000\n",
              "room_type                         0.000000\n",
              "longitude                         0.000000\n",
              "latitude                          0.000000\n",
              "neighbourhood                     0.000000\n",
              "host_id                           0.000000\n",
              "id                                0.000000\n",
              "dtype: float64"
            ]
          },
          "metadata": {
            "tags": []
          },
          "execution_count": 171
        }
      ]
    },
    {
      "cell_type": "markdown",
      "metadata": {
        "id": "aHEIMppwOLT3",
        "colab_type": "text"
      },
      "source": [
        "__Q2. insights:__\n",
        "\n",
        "* `last_review` brings us the date from the last evaluating, and is an irrelevant for this analysis.\n",
        "\n",
        "* When `reviews_per_month` is not disponible it means that this property haven't recieved any reviews yet, so its value should be eguals to zero.\n",
        "\n",
        "* In the other side, the column `neighbourhood_group` won't give us any insight as it has any valid entry."
      ]
    },
    {
      "cell_type": "code",
      "metadata": {
        "id": "00YN501wAxng",
        "colab_type": "code",
        "outputId": "72b1c2e7-cdbf-4b28-9687-cb20c96855f9",
        "colab": {
          "base_uri": "https://localhost:8080/",
          "height": 34
        }
      },
      "source": [
        "# Replacing invalid values for zero into 'reviews_per_month' column\n",
        "df.fillna({'reviews_per_month':0}, inplace=True)\n",
        "\n",
        "# Validating the changes\n",
        "df.reviews_per_month.isnull().sum()"
      ],
      "execution_count": 172,
      "outputs": [
        {
          "output_type": "execute_result",
          "data": {
            "text/plain": [
              "0"
            ]
          },
          "metadata": {
            "tags": []
          },
          "execution_count": 172
        }
      ]
    },
    {
      "cell_type": "markdown",
      "metadata": {
        "id": "rTb9hecMPXJU",
        "colab_type": "text"
      },
      "source": [
        "###Q3. How the information is distributed ?\n",
        "\n",
        "Creating an histogram will help us to determine if using mesures as the mean (or average) can give us a good approximation for the center of the data and can point us the existence of outliers."
      ]
    },
    {
      "cell_type": "code",
      "metadata": {
        "id": "hcsbruruPQls",
        "colab_type": "code",
        "outputId": "7ba97bc9-53eb-4fa4-ea92-02b2927d9b32",
        "colab": {
          "base_uri": "https://localhost:8080/",
          "height": 607
        }
      },
      "source": [
        "df.hist(bins=15, figsize=(15,10));"
      ],
      "execution_count": 173,
      "outputs": [
        {
          "output_type": "display_data",
          "data": {
            "image/png": "[encoded data removed]",
            "text/plain": [
              "<Figure size 1080x720 with 12 Axes>"
            ]
          },
          "metadata": {
            "tags": [],
            "needs_background": "light"
          }
        }
      ]
    },
    {
      "cell_type": "markdown",
      "metadata": {
        "id": "1GNWOns5GFu8",
        "colab_type": "text"
      },
      "source": [
        "**Q3 Insights**\n",
        "\n",
        "* Looking to `calculated_host_listing_count` and `host_id` it is possible to question if people are using Airbnb as it should (renting their own house our room space) or if they are using the site to make profit.\n",
        "\n",
        "* There are two variables that we should take a closer look into the possibility of having outliers: `minimum_nights` and `price`."
      ]
    },
    {
      "cell_type": "markdown",
      "metadata": {
        "id": "BsLxF3DVaQPf",
        "colab_type": "text"
      },
      "source": [
        "###Q4. Are there outliers?\n",
        "\n",
        "As we saw in the Q3 some data as `price` and  `minimum_nights` maybe could have some outliers. So in these step I'm going to evaluate those variables that may contain noise inside them.\n",
        "\n",
        "\n"
      ]
    },
    {
      "cell_type": "code",
      "metadata": {
        "id": "0QX5PRbYaQmL",
        "colab_type": "code",
        "outputId": "52cbaaa9-042b-49c6-d89c-7d96e7660dfd",
        "colab": {
          "base_uri": "https://localhost:8080/",
          "height": 297
        }
      },
      "source": [
        "# Confirm if there is any information that could mislead the analysis\n",
        "df[['price', 'minimum_nights']].describe()"
      ],
      "execution_count": 174,
      "outputs": [
        {
          "output_type": "execute_result",
          "data": {
            "text/html": [
              "<div>\n",
              "<style scoped>\n",
              "    .dataframe tbody tr th:only-of-type {\n",
              "        vertical-align: middle;\n",
              "    }\n",
              "\n",
              "    .dataframe tbody tr th {\n",
              "        vertical-align: top;\n",
              "    }\n",
              "\n",
              "    .dataframe thead th {\n",
              "        text-align: right;\n",
              "    }\n",
              "</style>\n",
              "<table border=\"1\" class=\"dataframe\">\n",
              "  <thead>\n",
              "    <tr style=\"text-align: right;\">\n",
              "      <th></th>\n",
              "      <th>price</th>\n",
              "      <th>minimum_nights</th>\n",
              "    </tr>\n",
              "  </thead>\n",
              "  <tbody>\n",
              "    <tr>\n",
              "      <th>count</th>\n",
              "      <td>19731.000000</td>\n",
              "      <td>19731.000000</td>\n",
              "    </tr>\n",
              "    <tr>\n",
              "      <th>mean</th>\n",
              "      <td>115.074603</td>\n",
              "      <td>10.714764</td>\n",
              "    </tr>\n",
              "    <tr>\n",
              "      <th>std</th>\n",
              "      <td>232.801705</td>\n",
              "      <td>89.794089</td>\n",
              "    </tr>\n",
              "    <tr>\n",
              "      <th>min</th>\n",
              "      <td>10.000000</td>\n",
              "      <td>1.000000</td>\n",
              "    </tr>\n",
              "    <tr>\n",
              "      <th>25%</th>\n",
              "      <td>49.000000</td>\n",
              "      <td>1.000000</td>\n",
              "    </tr>\n",
              "    <tr>\n",
              "      <th>50%</th>\n",
              "      <td>78.000000</td>\n",
              "      <td>2.000000</td>\n",
              "    </tr>\n",
              "    <tr>\n",
              "      <th>75%</th>\n",
              "      <td>120.000000</td>\n",
              "      <td>5.000000</td>\n",
              "    </tr>\n",
              "    <tr>\n",
              "      <th>max</th>\n",
              "      <td>13294.000000</td>\n",
              "      <td>11684.000000</td>\n",
              "    </tr>\n",
              "  </tbody>\n",
              "</table>\n",
              "</div>"
            ],
            "text/plain": [
              "              price  minimum_nights\n",
              "count  19731.000000    19731.000000\n",
              "mean     115.074603       10.714764\n",
              "std      232.801705       89.794089\n",
              "min       10.000000        1.000000\n",
              "25%       49.000000        1.000000\n",
              "50%       78.000000        2.000000\n",
              "75%      120.000000        5.000000\n",
              "max    13294.000000    11684.000000"
            ]
          },
          "metadata": {
            "tags": []
          },
          "execution_count": 174
        }
      ]
    },
    {
      "cell_type": "code",
      "metadata": {
        "id": "cY8kZVmmsP4G",
        "colab_type": "code",
        "outputId": "c0bc310b-bc45-4a57-e162-13fe670da97e",
        "colab": {
          "base_uri": "https://localhost:8080/",
          "height": 211
        }
      },
      "source": [
        "# Creating a box-plot graph for price\n",
        "df.price.plot(kind='box', vert=False, figsize=(15,3));"
      ],
      "execution_count": 175,
      "outputs": [
        {
          "output_type": "display_data",
          "data": {
            "image/png": "[encoded data removed]",
            "text/plain": [
              "<Figure size 1080x216 with 1 Axes>"
            ]
          },
          "metadata": {
            "tags": [],
            "needs_background": "light"
          }
        }
      ]
    },
    {
      "cell_type": "code",
      "metadata": {
        "id": "ZogloPiEs9H8",
        "colab_type": "code",
        "outputId": "3575a4af-b7be-4a3d-de81-935327d2eab1",
        "colab": {
          "base_uri": "https://localhost:8080/",
          "height": 211
        }
      },
      "source": [
        "# Creating a box-plot graph for minimum_nights\n",
        "df.minimum_nights.plot(kind='box', vert=False, figsize=(15,3));"
      ],
      "execution_count": 176,
      "outputs": [
        {
          "output_type": "display_data",
          "data": {
            "image/png": "[encoded data removed]",
            "text/plain": [
              "<Figure size 1080x216 with 1 Axes>"
            ]
          },
          "metadata": {
            "tags": [],
            "needs_background": "light"
          }
        }
      ]
    },
    {
      "cell_type": "markdown",
      "metadata": {
        "id": "NEet7Fya8uqS",
        "colab_type": "text"
      },
      "source": [
        "#### **Price analysis**\n",
        "\n",
        "As it was visible, the price for one nigth could reach $13,294 dollars, that is a really unlikely value for one stand. As well, the large range of 3rd quartile could be signing to a problem.\n",
        "\n",
        "**Price Outlier calculated**\n",
        "\n",
        "1. IIQ = Q3 - Q1\n",
        "    * IQQ = 120 - 49 = 71\n",
        "1. Outlier > Q3 + 1.5 - IQQ\n",
        "    * Outliers > 50.5\n",
        "\n",
        "**Price Outlier used**\n",
        "\n",
        "As we can see in the data below, I couldn't use the usual outlier formula because if I did so, I would be ignoring a great part of the top prices (those that appear with more frequency). So I used the biggest value in the ranking with more than 200 manifestations."
      ]
    },
    {
      "cell_type": "code",
      "metadata": {
        "id": "oE8ZA6qfIDbn",
        "colab_type": "code",
        "outputId": "b045c27f-1fe8-40cc-cf87-d22d1dd3c455",
        "colab": {
          "base_uri": "https://localhost:8080/",
          "height": 714
        }
      },
      "source": [
        "# Validating the outlier value\n",
        "top_prices=df.price.value_counts().head(40)\n",
        "top_prices"
      ],
      "execution_count": 177,
      "outputs": [
        {
          "output_type": "execute_result",
          "data": {
            "text/plain": [
              "99     810\n",
              "80     643\n",
              "90     613\n",
              "49     606\n",
              "70     539\n",
              "35     536\n",
              "45     475\n",
              "50     475\n",
              "55     446\n",
              "120    425\n",
              "39     413\n",
              "76     411\n",
              "25     396\n",
              "85     389\n",
              "41     370\n",
              "150    355\n",
              "60     344\n",
              "100    310\n",
              "29     309\n",
              "61     304\n",
              "200    304\n",
              "75     282\n",
              "30     279\n",
              "64     278\n",
              "125    259\n",
              "149    236\n",
              "249    232\n",
              "69     229\n",
              "20     212\n",
              "130    208\n",
              "65     177\n",
              "94     166\n",
              "95     162\n",
              "78     155\n",
              "59     152\n",
              "111    141\n",
              "32     140\n",
              "139    126\n",
              "300    125\n",
              "199    122\n",
              "Name: price, dtype: int64"
            ]
          },
          "metadata": {
            "tags": []
          },
          "execution_count": 177
        }
      ]
    },
    {
      "cell_type": "code",
      "metadata": {
        "id": "DVRljfsQ9iXX",
        "colab_type": "code",
        "outputId": "769e2cd2-500a-4e36-c4a9-0b8caff4f6fd",
        "colab": {
          "base_uri": "https://localhost:8080/",
          "height": 153
        }
      },
      "source": [
        "# Show the representativeness of price over 50.5 dollars per nigth:\n",
        "print(\"price: 50.5\") \n",
        "print(\"Values over $50.5/night: {}\".format(len(df[df.price > 50.5])))\n",
        "print(\"Representativeness: {:.2f}\\n\".format((len(df[df.price > 50.5]) / df.shape[0])*100))\n",
        "\n",
        "# Show the representativeness of price over 250 dollars per nigth:\n",
        "print(\"price: 250\") \n",
        "print(\"Values over $150/night: {}\".format(len(df[df.price > 250])))\n",
        "print(\"Representativeness: {:.2f}\\n\".format((len(df[df.price > 250]) / df.shape[0])*100))"
      ],
      "execution_count": 178,
      "outputs": [
        {
          "output_type": "stream",
          "text": [
            "price: 50.5\n",
            "Values over $50.5/night: 14018\n",
            "Representativeness: 71.05\n",
            "\n",
            "price: 250\n",
            "Values over $150/night: 1124\n",
            "Representativeness: 5.70\n",
            "\n"
          ],
          "name": "stdout"
        }
      ]
    },
    {
      "cell_type": "markdown",
      "metadata": {
        "id": "0hcjT64GPp4t",
        "colab_type": "text"
      },
      "source": [
        "As imagined, it is not possible to use the calculated value of \\$50.50. If we did so we would be excluding 71% of all the values.\n",
        "By the other side if we use the value of \\$249 as determined by the top prices we would exclude 1,124 values (5.7% of the database) what is more reasonable.  "
      ]
    },
    {
      "cell_type": "markdown",
      "metadata": {
        "id": "G3YroBaasj4D",
        "colab_type": "text"
      },
      "source": [
        "#### **Minimun nights analysis**\n",
        "\n",
        "As it was visible, the minimum nigths constraint could reach 11.684 days, that is a really unlikely value for a rent. As well, the standard deviation of 89 days say that something ia not rigth.\n",
        "\n",
        "**Price Outlier calculated**\n",
        "\n",
        "1. IIQ = Q3 - Q1\n",
        "    * IQQ = 5 - 1 = 4\n",
        "1. Outlier > Q3 + 1.5 - IQQ\n",
        "    * Outliers > 2.5\n",
        "\n",
        "**Price Outlier used**\n",
        "\n",
        "As we can see in the data below, I couldn't use the usual outlier formula because if I did so, I would be ignoring a great part of the the appartments. So I used the biggest value in the ranking with more than 200 manifestations.\n",
        "\n",
        "\n",
        "\n"
      ]
    },
    {
      "cell_type": "code",
      "metadata": {
        "id": "9FsCVkShRVFe",
        "colab_type": "code",
        "outputId": "ef16cb86-77ea-428e-85f0-3334ab934f44",
        "colab": {
          "base_uri": "https://localhost:8080/",
          "height": 289
        }
      },
      "source": [
        "# Validating the outlier value\n",
        "top_min_nigths=df.minimum_nights.value_counts().head(15)\n",
        "top_min_nigths"
      ],
      "execution_count": 179,
      "outputs": [
        {
          "output_type": "execute_result",
          "data": {
            "text/plain": [
              "1     6415\n",
              "2     5150\n",
              "3     2028\n",
              "30     880\n",
              "7      836\n",
              "5      756\n",
              "31     642\n",
              "4      640\n",
              "32     552\n",
              "14     243\n",
              "6      234\n",
              "10     177\n",
              "28     143\n",
              "90     133\n",
              "15     125\n",
              "Name: minimum_nights, dtype: int64"
            ]
          },
          "metadata": {
            "tags": []
          },
          "execution_count": 179
        }
      ]
    },
    {
      "cell_type": "code",
      "metadata": {
        "id": "cVExF2F0O8aB",
        "colab_type": "code",
        "outputId": "29d76b8e-afd0-49a8-fa81-2c9ab0dcf37a",
        "colab": {
          "base_uri": "https://localhost:8080/",
          "height": 153
        }
      },
      "source": [
        "# Show the representativeness of minimum_nights over 3 days\n",
        "print(\"minimum_nights: 3\") \n",
        "print(\"Values over 3 nights: {}\".format(len(df[df.minimum_nights > 3])))\n",
        "print(\"Representativeness: {:.2f}\\n\".format((len(df[df.minimum_nights > 3]) / df.shape[0])*100))\n",
        "\n",
        "# Show the representativeness of minimum_nights over 32 days\n",
        "print(\"minimum_nights: 32\") \n",
        "print(\"Values over 32 nights: {}\".format(len(df[df.minimum_nights >= 32])))\n",
        "print(\"Representativeness: {:.2f}\\n\".format((len(df[df.minimum_nights >= 32]) / df.shape[0])*100))"
      ],
      "execution_count": 180,
      "outputs": [
        {
          "output_type": "stream",
          "text": [
            "minimum_nights: 3\n",
            "Values over 3 nights: 6138\n",
            "Representativeness: 31.11\n",
            "\n",
            "minimum_nights: 32\n",
            "Values over 32 nights: 1108\n",
            "Representativeness: 5.62\n",
            "\n"
          ],
          "name": "stdout"
        }
      ]
    },
    {
      "cell_type": "markdown",
      "metadata": {
        "id": "3quEvjk7TTq0",
        "colab_type": "text"
      },
      "source": [
        "As imagined, it is not possible to use the value calculated as the outlier. To help into the decision it was ranked the most commun quantity of nigths needed and it was found the value of 32 nigths. The properties that asks for bigger periods represents 5.62% of the data (better than the 31% of the calculated value) "
      ]
    },
    {
      "cell_type": "markdown",
      "metadata": {
        "id": "krcSjvvqvfGV",
        "colab_type": "text"
      },
      "source": [
        "####Taking out the outliers\n",
        "\n"
      ]
    },
    {
      "cell_type": "code",
      "metadata": {
        "id": "NCKlgBKDxVI3",
        "colab_type": "code",
        "outputId": "f94b5907-ea60-4950-a20a-bea0ca86b315",
        "colab": {
          "base_uri": "https://localhost:8080/",
          "height": 607
        }
      },
      "source": [
        "# Remove outliers:\n",
        "df_clean = df.copy()\n",
        "df_clean.drop(df_clean[df_clean.price > 200].index, axis=0, inplace=True)\n",
        "df_clean.drop(df_clean[df_clean.minimum_nights > 32].index, axis=0, inplace=True)\n",
        "\n",
        "# Remove `neighbourhood_group` that is empty\n",
        "df_clean.drop('neighbourhood_group', axis=1, inplace=True)\n",
        "\n",
        "# Remove data that is irrelevant to this analysis:\n",
        "df_clean.drop('host_name', axis=1, inplace=True)\n",
        "df_clean.drop('last_review', axis=1, inplace=True)\n",
        "\n",
        "# Histogram\n",
        "df_clean.hist( bins=15, figsize=(15,10));"
      ],
      "execution_count": 181,
      "outputs": [
        {
          "output_type": "display_data",
          "data": {
            "image/png": "[encoded data removed]",
            "text/plain": [
              "<Figure size 1080x720 with 12 Axes>"
            ]
          },
          "metadata": {
            "tags": [],
            "needs_background": "light"
          }
        }
      ]
    },
    {
      "cell_type": "markdown",
      "metadata": {
        "id": "xrYvTMn3FiE1",
        "colab_type": "text"
      },
      "source": [
        "###Q5. Is Airbnb well served into Montreal?\n",
        " \n",
        "As its main objective is develop a circular economy and connect people, it would be intersting if its well served all over the city, specially with shared options (shared room or private room inside a shared house). Maybe there is  room for growth into this canadian city."
      ]
    },
    {
      "cell_type": "code",
      "metadata": {
        "id": "eX9thcy21Pcf",
        "colab_type": "code",
        "outputId": "918340d0-1e6f-46c6-e70a-5e73fa88dca6",
        "colab": {
          "base_uri": "https://localhost:8080/",
          "height": 102
        }
      },
      "source": [
        "# How many entries of each room type the database has\n",
        "df_clean.room_type.value_counts()\n"
      ],
      "execution_count": 184,
      "outputs": [
        {
          "output_type": "execute_result",
          "data": {
            "text/plain": [
              "Entire home/apt    12041\n",
              "Private room        5312\n",
              "Shared room          157\n",
              "Hotel room            51\n",
              "Name: room_type, dtype: int64"
            ]
          },
          "metadata": {
            "tags": []
          },
          "execution_count": 184
        }
      ]
    },
    {
      "cell_type": "markdown",
      "metadata": {
        "id": "-RYHR1ZdgdeA",
        "colab_type": "text"
      },
      "source": [
        "####Type of room\n",
        "We could think that as Airbnb main proposal is to share experiences, that the private room or the shared room should be more interesting than the hotel and the entire home/apt."
      ]
    },
    {
      "cell_type": "code",
      "metadata": {
        "id": "Rh7sx9f1cgmi",
        "colab_type": "code",
        "colab": {
          "base_uri": "https://localhost:8080/",
          "height": 119
        },
        "outputId": "54b18df0-a1a1-40b7-9416-d4f64443aedd"
      },
      "source": [
        "# analysing the price that each type of room usualy has\n",
        "df_clean.groupby(['room_type']).price.mean()"
      ],
      "execution_count": 197,
      "outputs": [
        {
          "output_type": "execute_result",
          "data": {
            "text/plain": [
              "room_type\n",
              "Entire home/apt     96.080973\n",
              "Hotel room         113.607843\n",
              "Private room        48.047252\n",
              "Shared room         40.369427\n",
              "Name: price, dtype: float64"
            ]
          },
          "metadata": {
            "tags": []
          },
          "execution_count": 197
        }
      ]
    },
    {
      "cell_type": "code",
      "metadata": {
        "id": "T1gJI4_qKoNO",
        "colab_type": "code",
        "outputId": "35afd0e0-c93f-42a9-fe32-0b95f8a5b7f4",
        "colab": {
          "base_uri": "https://localhost:8080/",
          "height": 313
        }
      },
      "source": [
        "# taking a look into the distribution of prices in each type of room\n",
        "condition=df_clean[df_clean.price < 200]\n",
        "viz_prices_room_type=sns.violinplot(data=condition, x='room_type', y='price')\n",
        "viz_prices_room_type.set_title('Density and distribution of prices for each room type')"
      ],
      "execution_count": 189,
      "outputs": [
        {
          "output_type": "execute_result",
          "data": {
            "text/plain": [
              "Text(0.5, 1.0, 'Density and distribution of prices for each room type')"
            ]
          },
          "metadata": {
            "tags": []
          },
          "execution_count": 189
        },
        {
          "output_type": "display_data",
          "data": {
            "image/png": "[encoded data removed]",
            "text/plain": [
              "<Figure size 432x288 with 1 Axes>"
            ]
          },
          "metadata": {
            "tags": [],
            "needs_background": "light"
          }
        }
      ]
    },
    {
      "cell_type": "code",
      "metadata": {
        "id": "IJRsdKxxeqLh",
        "colab_type": "code",
        "colab": {
          "base_uri": "https://localhost:8080/",
          "height": 119
        },
        "outputId": "2bf6e367-9039-423e-f918-b978087d9bf6"
      },
      "source": [
        "# Taking a look into the occupancy of each type of room\n",
        "df_clean.groupby(['room_type']).availability_365.mean() / 365 * 100"
      ],
      "execution_count": 205,
      "outputs": [
        {
          "output_type": "execute_result",
          "data": {
            "text/plain": [
              "room_type\n",
              "Entire home/apt    27.429866\n",
              "Hotel room         55.084609\n",
              "Private room       24.906957\n",
              "Shared room        35.229038\n",
              "Name: availability_365, dtype: float64"
            ]
          },
          "metadata": {
            "tags": []
          },
          "execution_count": 205
        }
      ]
    },
    {
      "cell_type": "code",
      "metadata": {
        "id": "4OlWutdZgrAv",
        "colab_type": "code",
        "colab": {
          "base_uri": "https://localhost:8080/",
          "height": 119
        },
        "outputId": "6a890be6-aeab-424d-d11f-cbe926c13c0a"
      },
      "source": [
        "# criteria for renting houses\n",
        "df_clean.groupby(['room_type']).minimum_nights.mean()"
      ],
      "execution_count": 214,
      "outputs": [
        {
          "output_type": "execute_result",
          "data": {
            "text/plain": [
              "room_type\n",
              "Entire home/apt    7.041110\n",
              "Hotel room         1.666667\n",
              "Private room       4.592244\n",
              "Shared room        3.694268\n",
              "Name: minimum_nights, dtype: float64"
            ]
          },
          "metadata": {
            "tags": []
          },
          "execution_count": 214
        }
      ]
    },
    {
      "cell_type": "markdown",
      "metadata": {
        "id": "DnPA1syukeFM",
        "colab_type": "text"
      },
      "source": [
        "**Q5. Insights**\n",
        "\n",
        "* The most part of the ads are from entire appartments/houses, witch is not the mais focus of Airbnb.And even if it is more expensive than the shared options (room or house) and it demands the higher quantity of nights to allow an reservation, it is the second type of room with the best occupancy.\n",
        "\n",
        "* To hotels, the platfom does't help a lot. Whit the smallest requirements of time spent in the place, and the worst price, hotels have 55% of the year with vancant rooms if the platform was their only way of reaching clients and booking for them. Maybe that is why there are soo few hotels into the site.\n",
        "\n",
        "* With a very similar comportmanet, shared rooms and shared houses (private room) have the same price's mean, a similar minimum nigths demand and a really small variancy of prices. The main difference is the quantity of each of them available and the occupancy."
      ]
    },
    {
      "cell_type": "markdown",
      "metadata": {
        "id": "TyMjY3pbgiUs",
        "colab_type": "text"
      },
      "source": [
        "#### Neighbourhood"
      ]
    },
    {
      "cell_type": "code",
      "metadata": {
        "id": "sLdmH_Vrjl_o",
        "colab_type": "code",
        "colab": {
          "base_uri": "https://localhost:8080/",
          "height": 490
        },
        "outputId": "33312d52-7c7f-4042-b739-1fa91fb401b3"
      },
      "source": [
        "df_clean.plot(kind=\"scatter\", x='longitude', y='latitude', alpha=0.4, c=df_clean['price'], s=8, cmap=plt.get_cmap('jet'), figsize=(12,8))"
      ],
      "execution_count": 220,
      "outputs": [
        {
          "output_type": "execute_result",
          "data": {
            "text/plain": [
              "<matplotlib.axes._subplots.AxesSubplot at 0x7f7fc275b2b0>"
            ]
          },
          "metadata": {
            "tags": []
          },
          "execution_count": 220
        },
        {
          "output_type": "display_data",
          "data": {
            "image/png": "[encoded data removed]",
            "text/plain": [
              "<Figure size 864x576 with 2 Axes>"
            ]
          },
          "metadata": {
            "tags": [],
            "needs_background": "light"
          }
        }
      ]
    },
    {
      "cell_type": "code",
      "metadata": {
        "id": "9v_B3Y33pV3o",
        "colab_type": "code",
        "colab": {
          "base_uri": "https://localhost:8080/",
          "height": 289
        },
        "outputId": "02c47fac-51e3-40f2-fac8-986777bd77cc"
      },
      "source": [
        "# The neighborhoods with the biggest number of units\n",
        "df_clean.neighbourhood.value_counts().head(15)"
      ],
      "execution_count": 282,
      "outputs": [
        {
          "output_type": "execute_result",
          "data": {
            "text/plain": [
              "Le Plateau-Mont-Royal                   4816\n",
              "Ville-Marie                             4446\n",
              "Rosemont-La Petite-Patrie               1809\n",
              "Côte-des-Neiges-Notre-Dame-de-Grâce     1244\n",
              "Le Sud-Ouest                            1084\n",
              "Villeray-Saint-Michel-Parc-Extension    1047\n",
              "Mercier-Hochelaga-Maisonneuve            930\n",
              "Verdun                                   452\n",
              "Ahuntsic-Cartierville                    308\n",
              "Outremont                                215\n",
              "LaSalle                                  192\n",
              "Saint-Laurent                            170\n",
              "Lachine                                  103\n",
              "Montréal-Nord                             78\n",
              "Westmount                                 74\n",
              "Name: neighbourhood, dtype: int64"
            ]
          },
          "metadata": {
            "tags": []
          },
          "execution_count": 282
        }
      ]
    },
    {
      "cell_type": "code",
      "metadata": {
        "id": "zHg68qfr4iZS",
        "colab_type": "code",
        "colab": {
          "base_uri": "https://localhost:8080/",
          "height": 289
        },
        "outputId": "ffff3071-fc90-44ae-9565-e9d75cf8ab31"
      },
      "source": [
        "# The neighborhoods with the lowest number of units\n",
        "df_clean.neighbourhood.value_counts().tail(15)"
      ],
      "execution_count": 283,
      "outputs": [
        {
          "output_type": "execute_result",
          "data": {
            "text/plain": [
              "Pierrefonds-Roxboro              61\n",
              "Anjou                            60\n",
              "Dorval                           54\n",
              "Côte-Saint-Luc                   46\n",
              "Mont-Royal                       33\n",
              "Dollard-des-Ormeaux              32\n",
              "Beaconsfield                     24\n",
              "Hampstead                        19\n",
              "Kirkland                         16\n",
              "L'Île-Bizard-Sainte-Geneviève    16\n",
              "Montréal-Ouest                   13\n",
              "Sainte-Anne-de-Bellevue           5\n",
              "Montréal-Est                      4\n",
              "Baie-d'Urfé                       2\n",
              "Senneville                        1\n",
              "Name: neighbourhood, dtype: int64"
            ]
          },
          "metadata": {
            "tags": []
          },
          "execution_count": 283
        }
      ]
    },
    {
      "cell_type": "code",
      "metadata": {
        "id": "qvSb2R2zxSI-",
        "colab_type": "code",
        "colab": {
          "base_uri": "https://localhost:8080/",
          "height": 221
        },
        "outputId": "3ad4e3f1-0bc4-4f17-bf16-87dcd40a445b"
      },
      "source": [
        "# Looking for the best prices/night for hosts (higher prices)\n",
        "(df_clean.groupby(['neighbourhood']).price.mean()).sort_values(ascending=False)[:10]"
      ],
      "execution_count": 249,
      "outputs": [
        {
          "output_type": "execute_result",
          "data": {
            "text/plain": [
              "neighbourhood\n",
              "Baie-d'Urfé                      115.500000\n",
              "Kirkland                          97.437500\n",
              "Westmount                         96.162162\n",
              "Ville-Marie                       91.205578\n",
              "L'Île-Bizard-Sainte-Geneviève     89.250000\n",
              "Côte-Saint-Luc                    89.086957\n",
              "Dollard-des-Ormeaux               86.062500\n",
              "Beaconsfield                      84.250000\n",
              "Le Plateau-Mont-Royal             83.160507\n",
              "Hampstead                         82.368421\n",
              "Name: price, dtype: float64"
            ]
          },
          "metadata": {
            "tags": []
          },
          "execution_count": 249
        }
      ]
    },
    {
      "cell_type": "code",
      "metadata": {
        "id": "hyDUJmW6xBXY",
        "colab_type": "code",
        "colab": {
          "base_uri": "https://localhost:8080/",
          "height": 221
        },
        "outputId": "688247ef-8976-4cfe-f171-24125abf92c4"
      },
      "source": [
        "# units with the lowest percentages of availability (nobody paying) \n",
        "(df_clean.groupby(['neighbourhood']).availability_365.mean() / 365 * 100).sort_values(ascending=True)[:10]"
      ],
      "execution_count": 247,
      "outputs": [
        {
          "output_type": "execute_result",
          "data": {
            "text/plain": [
              "neighbourhood\n",
              "Sainte-Anne-de-Bellevue                  7.123288\n",
              "Outremont                               17.866837\n",
              "Rosemont-La Petite-Patrie               19.632280\n",
              "Villeray-Saint-Michel-Parc-Extension    20.396698\n",
              "Le Plateau-Mont-Royal                   21.541494\n",
              "Westmount                               22.513884\n",
              "Verdun                                  25.742514\n",
              "Ahuntsic-Cartierville                   27.581391\n",
              "Côte-des-Neiges-Notre-Dame-de-Grâce     27.915474\n",
              "Mercier-Hochelaga-Maisonneuve           29.945500\n",
              "Name: availability_365, dtype: float64"
            ]
          },
          "metadata": {
            "tags": []
          },
          "execution_count": 247
        }
      ]
    },
    {
      "cell_type": "code",
      "metadata": {
        "id": "RpPIL9wDxSR_",
        "colab_type": "code",
        "colab": {
          "base_uri": "https://localhost:8080/",
          "height": 221
        },
        "outputId": "7a063cbe-9b14-45ae-bf82-3ad1aed23c3f"
      },
      "source": [
        "# Looking for the best prices/night for guests (lower prices)\n",
        "(df_clean.groupby(['neighbourhood']).price.mean()).sort_values(ascending=True)[:10]"
      ],
      "execution_count": 280,
      "outputs": [
        {
          "output_type": "execute_result",
          "data": {
            "text/plain": [
              "neighbourhood\n",
              "Senneville                              35.000000\n",
              "Sainte-Anne-de-Bellevue                 54.000000\n",
              "Montréal-Nord                           56.961538\n",
              "Anjou                                   59.266667\n",
              "Villeray-Saint-Michel-Parc-Extension    68.046800\n",
              "Montréal-Est                            68.250000\n",
              "Mercier-Hochelaga-Maisonneuve           69.770968\n",
              "Mont-Royal                              69.939394\n",
              "Pierrefonds-Roxboro                     70.524590\n",
              "Côte-des-Neiges-Notre-Dame-de-Grâce     71.705788\n",
              "Name: price, dtype: float64"
            ]
          },
          "metadata": {
            "tags": []
          },
          "execution_count": 280
        }
      ]
    },
    {
      "cell_type": "code",
      "metadata": {
        "id": "04_iCn5wwkqr",
        "colab_type": "code",
        "colab": {
          "base_uri": "https://localhost:8080/",
          "height": 221
        },
        "outputId": "06dad6b9-8a8f-4c92-e5a6-a0127e99bf99"
      },
      "source": [
        "# units with the higher percentages of availability (nobody paying) \n",
        "(df_clean.groupby(['neighbourhood']).availability_365.mean() / 365 * 100).sort_values(ascending=False)[:10]"
      ],
      "execution_count": 246,
      "outputs": [
        {
          "output_type": "execute_result",
          "data": {
            "text/plain": [
              "neighbourhood\n",
              "Dorval                           51.927955\n",
              "Kirkland                         51.301370\n",
              "Baie-d'Urfé                      50.821918\n",
              "Senneville                       49.315068\n",
              "Montréal-Ouest                   48.113804\n",
              "Mont-Royal                       47.862183\n",
              "Beaconsfield                     47.454338\n",
              "Dollard-des-Ormeaux              45.659247\n",
              "L'Île-Bizard-Sainte-Geneviève    42.174658\n",
              "Hampstead                        39.985580\n",
              "Name: availability_365, dtype: float64"
            ]
          },
          "metadata": {
            "tags": []
          },
          "execution_count": 246
        }
      ]
    },
    {
      "cell_type": "code",
      "metadata": {
        "id": "HAcTo5PS5ISd",
        "colab_type": "code",
        "outputId": "f5729dd7-a5c2-4d00-e4bd-6628e11ca636",
        "colab": {
          "base_uri": "https://localhost:8080/",
          "height": 68
        }
      },
      "source": [
        "# representativity of the two neighborhoods with more units into Airbnb\n",
        "df_clean.neighbourhood.value_counts().head(2) / df_clean.shape[0] *100"
      ],
      "execution_count": 0,
      "outputs": [
        {
          "output_type": "execute_result",
          "data": {
            "text/plain": [
              "Le Plateau-Mont-Royal    27.424406\n",
              "Ville-Marie              25.317465\n",
              "Name: neighbourhood, dtype: float64"
            ]
          },
          "metadata": {
            "tags": []
          },
          "execution_count": 286
        }
      ]
    },
    {
      "cell_type": "markdown",
      "metadata": {
        "id": "fsYWV3-O1LO-",
        "colab_type": "text"
      },
      "source": [
        "**Q5. Insights**\n",
        "\n",
        "* Plateau Montreal is a really demanded neighbourhood. Is the neighborhood with the greater number of houses and at the same time is into the top 10 neighbourhoods with better occupancy (only 21% of the days vacants) and best prices (mean of 83 dollars)\n",
        "\n",
        "* Ville Marie, the second neighbourhood with more places available in the website, and with one of the best prices per night (91 dollars).\n",
        "\n",
        "* People that lives in Westmount could rent a room or their place for a really good price (63 dollars per night) and the occupancy rate is really high (only 21% of the days the unit would be available). \n",
        "\n",
        "* Mont-Royal has 33 disponible units into the website, but it could be a great opportunity for visitors. Placed in the heart of the city, its houses are less expensives and has more options of days since its ocuppancy rate is low (approximatly 47% of the year the room/house is available) \n",
        "\n",
        "* Senvile could look like a really good choice for gests also, but the data is from only one unit available. "
      ]
    },
    {
      "cell_type": "markdown",
      "metadata": {
        "id": "lJ4ZHS1JVZSG",
        "colab_type": "text"
      },
      "source": [
        "###Q6. Are people using Airbnb as it should?"
      ]
    },
    {
      "cell_type": "code",
      "metadata": {
        "id": "T-4kAjA8CBkj",
        "colab_type": "code",
        "outputId": "b98202f6-d2c8-43bb-ae20-7232dacf6f25",
        "colab": {
          "base_uri": "https://localhost:8080/",
          "height": 204
        }
      },
      "source": [
        "top_hosts = df.host_id.value_counts().head(10)\n",
        "top_hosts"
      ],
      "execution_count": 0,
      "outputs": [
        {
          "output_type": "execute_result",
          "data": {
            "text/plain": [
              "12243051     143\n",
              "7152707       70\n",
              "72761895      67\n",
              "38459934      60\n",
              "487327        60\n",
              "318040        60\n",
              "111294431     48\n",
              "224865057     48\n",
              "73995257      46\n",
              "387422        46\n",
              "Name: host_id, dtype: int64"
            ]
          },
          "metadata": {
            "tags": []
          },
          "execution_count": 114
        }
      ]
    },
    {
      "cell_type": "code",
      "metadata": {
        "id": "VaUpsDns1dr9",
        "colab_type": "code",
        "outputId": "6b79f210-25e7-4820-f64f-ab771db4ba8b",
        "colab": {
          "base_uri": "https://localhost:8080/",
          "height": 204
        }
      },
      "source": [
        "(df.calculated_host_listings_count.value_counts() / df.shape[0] *100).sort_values(ascending=False)[:10]"
      ],
      "execution_count": 230,
      "outputs": [
        {
          "output_type": "execute_result",
          "data": {
            "text/plain": [
              "1     56.327606\n",
              "2     13.258324\n",
              "3      5.777710\n",
              "4      3.588262\n",
              "5      2.179312\n",
              "6      1.854949\n",
              "7      1.773858\n",
              "60     0.912270\n",
              "9      0.866657\n",
              "17     0.861588\n",
              "Name: calculated_host_listings_count, dtype: float64"
            ]
          },
          "metadata": {
            "tags": []
          },
          "execution_count": 230
        }
      ]
    },
    {
      "cell_type": "code",
      "metadata": {
        "id": "C4AaqtCPCtu3",
        "colab_type": "code",
        "colab": {
          "base_uri": "https://localhost:8080/",
          "height": 102
        },
        "outputId": "a1c6ad9f-0a5c-4c36-ffbf-770f6a4f0f15"
      },
      "source": [
        "# create frame with the hosts that have one add only \n",
        "df_id_1 = df_clean.copy()\n",
        "df_id_1.drop(df_id_1[df_id_1.calculated_host_listings_count != 1].index, axis=0, inplace=True)\n",
        "\n",
        "# See how many of them share their place\n",
        "df_id_1.room_type.value_counts()/df_id_1.shape[0] * 100"
      ],
      "execution_count": 302,
      "outputs": [
        {
          "output_type": "execute_result",
          "data": {
            "text/plain": [
              "Entire home/apt    68.545581\n",
              "Private room       30.708818\n",
              "Shared room         0.715777\n",
              "Hotel room          0.029824\n",
              "Name: room_type, dtype: float64"
            ]
          },
          "metadata": {
            "tags": []
          },
          "execution_count": 302
        }
      ]
    },
    {
      "cell_type": "code",
      "metadata": {
        "id": "olzXiTV6DAff",
        "colab_type": "code",
        "colab": {
          "base_uri": "https://localhost:8080/",
          "height": 85
        },
        "outputId": "2a0f6c47-e62d-48a1-871a-1b45b59ed09f"
      },
      "source": [
        "# create frame with the hosts that have six adds \n",
        "df_id_6 = df_clean.copy()\n",
        "df_id_6.drop(df_id_6[df_id_6.calculated_host_listings_count != 6].index, axis=0, inplace=True)\n",
        "\n",
        "# it is when the shared room stop being offerd\n",
        "df_id_6.room_type.value_counts()/df_id_6.shape[0] * 100"
      ],
      "execution_count": 304,
      "outputs": [
        {
          "output_type": "execute_result",
          "data": {
            "text/plain": [
              "Entire home/apt    65.993266\n",
              "Private room       32.996633\n",
              "Hotel room          1.010101\n",
              "Name: room_type, dtype: float64"
            ]
          },
          "metadata": {
            "tags": []
          },
          "execution_count": 304
        }
      ]
    },
    {
      "cell_type": "code",
      "metadata": {
        "id": "mV4_5bamDbmC",
        "colab_type": "code",
        "colab": {
          "base_uri": "https://localhost:8080/",
          "height": 51
        },
        "outputId": "0f5df5a8-83a3-4d74-bbcc-e05d54f773e7"
      },
      "source": [
        "# create frame with the hosts that have 60 adds \n",
        "df_id_60 = df_clean.copy()\n",
        "df_id_60.drop(df_id_60[df_id_60.calculated_host_listings_count != 60].index, axis=0, inplace=True)\n",
        "\n",
        "# mooment where only entire places are offered\n",
        "df_id_60.room_type.value_counts()/df_id_60.shape[0] * 100"
      ],
      "execution_count": 306,
      "outputs": [
        {
          "output_type": "execute_result",
          "data": {
            "text/plain": [
              "Entire home/apt    100.0\n",
              "Name: room_type, dtype: float64"
            ]
          },
          "metadata": {
            "tags": []
          },
          "execution_count": 306
        }
      ]
    },
    {
      "cell_type": "markdown",
      "metadata": {
        "id": "DOiD3ryWFUiJ",
        "colab_type": "text"
      },
      "source": [
        "**Q6. Insights**\n",
        "\n",
        "* As imagined, people are using Airbnb as a way to profit, renting several entire houses.\n",
        "* There is one id with more than 140 units\n",
        "* Even for the ones that has only one add, the most part of units rented are entire apartments. Shared places reprensents 30% of all offers.\n"
      ]
    },
    {
      "cell_type": "markdown",
      "metadata": {
        "id": "EqRQ4jFFZayb",
        "colab_type": "text"
      },
      "source": [
        "##Conclusion\n",
        "\n",
        "During the exploratory analysis it was possible to point some questions that Airbnb should try to repair. \n",
        "\n",
        "* Improving its coverage at Montreal. Maybe it could create new incentives for people that share teir place in different areas.\n",
        "  * Now a days there are neighbourhoods that are more interesting and less interesting the hosts and guests, maybe there is a way to improve this balance between neighborhoods.\n",
        "  * Plateau and Ville Marie togheter represents more than 50% of all units avaliable\n",
        "\n",
        "* Reinforcing the actual goal from the company would be really interesting, otherwise Airbnb is losing its ecollogical value\n",
        "  * There are more entire units than shared units\n",
        "  * The platform became an way to make profit"
      ]
    }
  ]
}